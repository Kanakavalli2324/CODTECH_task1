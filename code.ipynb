import numpy as np
import pandas as pd
import matplotlib.pyplot as plt
import seaborn as sns
%matplotlib inline
# importing data
df=pd.read_csv("data.csv")
df.head()
df.tail()
# basic exploration 
df.info()
df.describe()
df.columns
# Data cleaning
# removing duplicate values
df.drop_duplicates(inplace=True)
df.info()
# Exploring null values col-wise
df.isnull().sum()
# on the whole
df.isnull().sum().sum()
# removing null values
df.dropna(inplace=True)
df.info()
# removing the unwanted columns(according to the purpose) in this case for predicting the car prices
df.drop(columns=['Engine Fuel Type', 'Market Category', 'Vehicle Style', 'Popularity', 'Number of Doors', 'Vehicle Size'],axis=1,inplac
df.rename(columns={"MSRP":"Price"},inplace=True)
# describing cleansing
df.describe()
df['Make'].value_counts()
# visualisation
plt.figure(figsize=(20,7))
plt.margins(y=0.3)
plt.xticks(rotation=45)
# histplots over years for price wrt maker
plt.xlabel("Maker")
plt.ylabel("No.of cars")
sns.histplot(data=df,x="Make",hue="Year")
# boxplots to find the outliers in different columns
plt.figure(figsize=(20,6))
plt.margins(y=0.3)
plt.subplot(1,3,1)
sns.boxplot(x=df["Engine HP"],color="Blue",width=0.5)
plt.subplot(1,3,2)
sns.boxplot(x=df["highway MPG"],color="green",width=0.5)
plt.subplot(1,3,3)
sns.boxplot(x=df["Price"],color="red",width=0.5)
# scatter for finding the relationship in two variates
plt.figure(figsize=(20,6))
plt.margins(y=0.3)
plt.subplot(1,3,1)
sns.scatterplot(data=df,x='Engine HP',y='Price')
# multivariate correlation
plt.figure(figsize=(20,6))
plt.margins(y=0.3)
df1=df[['Year','Engine HP',	'Engine Cylinders',	'highway MPG',	'city mpg',	'Price']]
c= df1.corr()
sns.heatmap(c,cmap="BrBG",annot=True)
c

